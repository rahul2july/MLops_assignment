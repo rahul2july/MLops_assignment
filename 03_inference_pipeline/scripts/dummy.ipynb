{
 "cells": [
  {
   "cell_type": "code",
   "execution_count": 1,
   "id": "4ce94b83",
   "metadata": {},
   "outputs": [
    {
     "name": "stderr",
     "output_type": "stream",
     "text": [
      "/Users/rahugup4/Library/Python/3.9/lib/python/site-packages/pydantic/_internal/_fields.py:127: UserWarning: Field \"model_server_url\" has conflict with protected namespace \"model_\".\n",
      "\n",
      "You may be able to resolve this warning by setting `model_config['protected_namespaces'] = ()`.\n",
      "  warnings.warn(\n",
      "/Users/rahugup4/Library/Python/3.9/lib/python/site-packages/pydantic/_internal/_config.py:269: UserWarning: Valid config keys have changed in V2:\n",
      "* 'schema_extra' has been renamed to 'json_schema_extra'\n",
      "  warnings.warn(message, UserWarning)\n"
     ]
    }
   ],
   "source": [
    "from utils import *\n",
    "from constants import *"
   ]
  },
  {
   "cell_type": "code",
   "execution_count": 2,
   "id": "37a211b0",
   "metadata": {},
   "outputs": [
    {
     "name": "stdout",
     "output_type": "stream",
     "text": [
      "Connecting to database\n",
      "Reading data from interactions_mapped table\n",
      "Table interactions_mapped columns:  Index(['created_date', 'city_tier', 'first_platform_c', 'first_utm_medium_c',\n",
      "       'first_utm_source_c', 'total_leads_droppped', 'referred_lead',\n",
      "       'assistance_interaction', 'career_interaction', 'payment_interaction',\n",
      "       'social_interaction', 'syllabus_interaction'],\n",
      "      dtype='object')\n",
      "Dropping 'created_date' column from interactions_mapped dataframe\n",
      "Converting 'city_tier' column from float to category in interactions_mapped dataframe\n",
      "Creating empty dataframe with features needed in final dataframe\n",
      "Encoding categorical variables:  ['city_tier', 'first_platform_c', 'first_utm_medium_c', 'first_utm_source_c']\n",
      "Encoded dataframe columns:  Index(['city_tier_1.0', 'city_tier_2.0', 'city_tier_3.0',\n",
      "       'first_platform_c_Level0', 'first_platform_c_Level1',\n",
      "       'first_platform_c_Level2', 'first_platform_c_Level3',\n",
      "       'first_platform_c_Level7', 'first_platform_c_Level8',\n",
      "       'first_platform_c_others', 'first_utm_medium_c_Level0',\n",
      "       'first_utm_medium_c_Level10', 'first_utm_medium_c_Level11',\n",
      "       'first_utm_medium_c_Level13', 'first_utm_medium_c_Level15',\n",
      "       'first_utm_medium_c_Level16', 'first_utm_medium_c_Level2',\n",
      "       'first_utm_medium_c_Level20', 'first_utm_medium_c_Level26',\n",
      "       'first_utm_medium_c_Level3', 'first_utm_medium_c_Level30',\n",
      "       'first_utm_medium_c_Level33', 'first_utm_medium_c_Level4',\n",
      "       'first_utm_medium_c_Level43', 'first_utm_medium_c_Level5',\n",
      "       'first_utm_medium_c_Level6', 'first_utm_medium_c_Level8',\n",
      "       'first_utm_medium_c_Level9', 'first_utm_medium_c_others',\n",
      "       'first_utm_source_c_Level0', 'first_utm_source_c_Level14',\n",
      "       'first_utm_source_c_Level16', 'first_utm_source_c_Level2',\n",
      "       'first_utm_source_c_Level4', 'first_utm_source_c_Level5',\n",
      "       'first_utm_source_c_Level6', 'first_utm_source_c_Level7',\n",
      "       'first_utm_source_c_others', 'total_leads_droppped', 'referred_lead'],\n",
      "      dtype='object')\n",
      "Saving the processed dataframe in the db in a table named 'features'\n"
     ]
    }
   ],
   "source": [
    "encode_features(DB_PATH, DB_FILE_NAME, ONE_HOT_ENCODED_FEATURES, FEATURES_TO_ENCODE)"
   ]
  },
  {
   "cell_type": "code",
   "execution_count": 3,
   "id": "b299d867",
   "metadata": {},
   "outputs": [
    {
     "name": "stdout",
     "output_type": "stream",
     "text": [
      "Connecting to database\n",
      "Reading data from features table\n",
      "Table features columns:  Index(['city_tier_1.0', 'city_tier_2.0', 'city_tier_3.0',\n",
      "       'first_platform_c_Level0', 'first_platform_c_Level1',\n",
      "       'first_platform_c_Level2', 'first_platform_c_Level3',\n",
      "       'first_platform_c_Level7', 'first_platform_c_Level8',\n",
      "       'first_platform_c_others', 'first_utm_medium_c_Level0',\n",
      "       'first_utm_medium_c_Level10', 'first_utm_medium_c_Level11',\n",
      "       'first_utm_medium_c_Level13', 'first_utm_medium_c_Level15',\n",
      "       'first_utm_medium_c_Level16', 'first_utm_medium_c_Level2',\n",
      "       'first_utm_medium_c_Level20', 'first_utm_medium_c_Level26',\n",
      "       'first_utm_medium_c_Level3', 'first_utm_medium_c_Level30',\n",
      "       'first_utm_medium_c_Level33', 'first_utm_medium_c_Level4',\n",
      "       'first_utm_medium_c_Level43', 'first_utm_medium_c_Level5',\n",
      "       'first_utm_medium_c_Level6', 'first_utm_medium_c_Level8',\n",
      "       'first_utm_medium_c_Level9', 'first_utm_medium_c_others',\n",
      "       'first_utm_source_c_Level0', 'first_utm_source_c_Level14',\n",
      "       'first_utm_source_c_Level16', 'first_utm_source_c_Level2',\n",
      "       'first_utm_source_c_Level4', 'first_utm_source_c_Level5',\n",
      "       'first_utm_source_c_Level6', 'first_utm_source_c_Level7',\n",
      "       'first_utm_source_c_others', 'total_leads_droppped', 'referred_lead'],\n",
      "      dtype='object')\n",
      "All the models input are present\n"
     ]
    }
   ],
   "source": [
    "input_features_check(DB_PATH, DB_FILE_NAME, ONE_HOT_ENCODED_FEATURES)"
   ]
  },
  {
   "cell_type": "code",
   "execution_count": 4,
   "id": "7ae11d6e",
   "metadata": {},
   "outputs": [
    {
     "name": "stdout",
     "output_type": "stream",
     "text": [
      "Connecting to database\n",
      "Reading data from features table\n",
      "Setting mlflow tracking url and mlflow experiment\n",
      "Setting mlflow tracking uri:  http://0.0.0.0:6006\n",
      "Setting mlflow experiment to name:  Lead_scoring_mlflow_production\n",
      "Loading model:  /Users/rahugup4/Desktop/IIIT_Bangalore/MLops/Assignment/Assignment/mlruns/1/c9fdec93b24842c69b02688652c8bf5e/artifacts/models\n",
      "Predicting application completion probability for leads\n",
      "Predicting 'app_complete_flag' value for the leads\n",
      "Creating copy of input dataframe\n",
      "Adding 'app_complete_flag' column in dataframe\n",
      "Adding 'prob_app_complete_flag_no' and 'prob_app_complete_flag_yes' column in dataframe\n",
      "Saving the pred_df dataframe in the db in a table named 'predictions'\n",
      "Predictions are done and save in predictions Table\n"
     ]
    }
   ],
   "source": [
    "get_models_prediction(DB_PATH, DB_FILE_NAME, MODEL_NAME, STAGE)"
   ]
  },
  {
   "cell_type": "code",
   "execution_count": 5,
   "id": "87fa6991",
   "metadata": {},
   "outputs": [
    {
     "name": "stdout",
     "output_type": "stream",
     "text": [
      "Connecting to database\n",
      "Reading data from predictions table\n",
      "Calculating the % of 1 and 0 predicted by the model\n",
      "Dataframe size:  24976\n",
      "Count of 1's:  12973\n",
      "Count of 0's:  12003\n",
      "Percentage of 1's:  51.94186418962203\n",
      "Percentage of 0's:  48.05813581037796\n",
      "Opening file:  /Users/rahugup4/Desktop/IIIT_Bangalore/MLops/Assignment/Assignment/03_inference_pipeline/scripts/prediction_distribution.txt\n",
      "Writing data in file\n",
      "Closing file\n"
     ]
    }
   ],
   "source": [
    "prediction_ratio_check(DB_PATH, DB_FILE_NAME)"
   ]
  },
  {
   "cell_type": "code",
   "execution_count": null,
   "id": "e9652ff2",
   "metadata": {},
   "outputs": [],
   "source": []
  }
 ],
 "metadata": {
  "kernelspec": {
   "display_name": "Python 3 (ipykernel)",
   "language": "python",
   "name": "python3"
  },
  "language_info": {
   "codemirror_mode": {
    "name": "ipython",
    "version": 3
   },
   "file_extension": ".py",
   "mimetype": "text/x-python",
   "name": "python",
   "nbconvert_exporter": "python",
   "pygments_lexer": "ipython3",
   "version": "3.9.13"
  }
 },
 "nbformat": 4,
 "nbformat_minor": 5
}
