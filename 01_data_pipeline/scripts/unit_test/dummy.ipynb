{
 "cells": [
  {
   "cell_type": "code",
   "execution_count": 1,
   "id": "856f28ef",
   "metadata": {},
   "outputs": [],
   "source": [
    "from utils import *\n",
    "from data_validation_checks import *\n",
    "from constants import *\n",
    "from mapping.city_tier_mapping import *\n",
    "from mapping.significant_categorical_level import *\n",
    "from schema import *"
   ]
  },
  {
   "cell_type": "code",
   "execution_count": 2,
   "id": "dfd9080c",
   "metadata": {},
   "outputs": [
    {
     "name": "stdout",
     "output_type": "stream",
     "text": [
      "Creating New Database\n",
      "New DB Created\n"
     ]
    },
    {
     "data": {
      "text/plain": [
       "'DB Created'"
      ]
     },
     "execution_count": 2,
     "metadata": {},
     "output_type": "execute_result"
    }
   ],
   "source": [
    "build_dbs(DB_PATH, DB_FILE_NAME)"
   ]
  },
  {
   "cell_type": "code",
   "execution_count": 3,
   "id": "0976bc7a",
   "metadata": {},
   "outputs": [
    {
     "name": "stdout",
     "output_type": "stream",
     "text": [
      "Reading csv file from data directory\n",
      "Replacing any null values present in 'toal_leads_dropped' and 'referred_lead' with 0\n",
      "Saving the processed dataframe in the db in a table named 'loaded_data\n",
      "Closing database connection\n"
     ]
    }
   ],
   "source": [
    "load_data_into_db(DB_PATH, DB_FILE_NAME, DATA_DIRECTORY)"
   ]
  },
  {
   "cell_type": "code",
   "execution_count": 4,
   "id": "bdb4d56e",
   "metadata": {},
   "outputs": [
    {
     "name": "stdout",
     "output_type": "stream",
     "text": [
      "Connecting to database\n",
      "Reading data from loaded_data table\n",
      "loaded_data column length:  46\n",
      "raw_data_schema length:  45\n",
      "Raw datas schema is in line with the schema present in schema.py\n",
      "Closing database connection\n"
     ]
    }
   ],
   "source": [
    "raw_data_schema_check(DB_PATH, DB_FILE_NAME, raw_data_schema)"
   ]
  },
  {
   "cell_type": "code",
   "execution_count": 5,
   "id": "b911b384",
   "metadata": {},
   "outputs": [
    {
     "name": "stdout",
     "output_type": "stream",
     "text": [
      "Connecting to database\n",
      "Reading data from loaded_data table\n",
      "Mapping cities to their tier\n",
      "Saving the processed dataframe in the db in a table named 'city_tier_mapped'\n",
      "Closing database connection\n"
     ]
    }
   ],
   "source": [
    "map_city_tier(DB_PATH, DB_FILE_NAME, city_tier_mapping)"
   ]
  },
  {
   "cell_type": "code",
   "execution_count": 6,
   "id": "0a151e2a",
   "metadata": {},
   "outputs": [
    {
     "name": "stdout",
     "output_type": "stream",
     "text": [
      "Connecting to database\n",
      "Reading data from city_tier_mapped table\n",
      "Mapping all the unsignificant variables present in first_platform_c\n",
      "Mapping all the unsignificant variables present in first_utm_medium_c\n",
      "Mapping all the unsignificant variables present in first_utm_source_c\n",
      "Saving the processed dataframe in the db in a table named 'categorical_variables_mapped'\n",
      "Closing database connection\n"
     ]
    }
   ],
   "source": [
    "map_categorical_vars(DB_PATH, DB_FILE_NAME, list_platform, list_medium, list_source)"
   ]
  },
  {
   "cell_type": "code",
   "execution_count": 8,
   "id": "65143cd4",
   "metadata": {},
   "outputs": [
    {
     "name": "stdout",
     "output_type": "stream",
     "text": [
      "Connecting to database\n",
      "Reading data from categorical_variables_mapped table\n",
      "Reading interaction_mapping from categorical_variables_mapped table\n",
      "Unpivoting the interaction columns and put the values in rows\n",
      "Handling the nulls in the interaction value column\n",
      "Mapping interaction type column with the mapping file to get interaction mapping\n",
      "Dropping the interaction type column as it is not needed\n",
      "Pivoting the interaction mapping column values to individual columns in the dataset\n",
      "Saving the processed dataframe in the db in a table named 'interactions_mapped'\n",
      "Closing database connection\n"
     ]
    }
   ],
   "source": [
    "interactions_mapping(DB_PATH, DB_FILE_NAME, INTERACTION_MAPPING, INDEX_COLUMNS)"
   ]
  },
  {
   "cell_type": "code",
   "execution_count": 9,
   "id": "deb414ae",
   "metadata": {},
   "outputs": [
    {
     "name": "stdout",
     "output_type": "stream",
     "text": [
      "Connecting to database\n",
      "Reading data from interactions_mapped table\n",
      "interactions_mapped column length:  13\n",
      "raw_data_schema length:  7\n",
      "Models input schema is in line with the schema present in schema.py\n",
      "Closing database connection\n"
     ]
    }
   ],
   "source": [
    "model_input_schema_check(DB_PATH, DB_FILE_NAME, model_input_schema)"
   ]
  },
  {
   "cell_type": "code",
   "execution_count": null,
   "id": "0c1f8783",
   "metadata": {},
   "outputs": [],
   "source": []
  }
 ],
 "metadata": {
  "kernelspec": {
   "display_name": "Python 3 (ipykernel)",
   "language": "python",
   "name": "python3"
  },
  "language_info": {
   "codemirror_mode": {
    "name": "ipython",
    "version": 3
   },
   "file_extension": ".py",
   "mimetype": "text/x-python",
   "name": "python",
   "nbconvert_exporter": "python",
   "pygments_lexer": "ipython3",
   "version": "3.9.13"
  }
 },
 "nbformat": 4,
 "nbformat_minor": 5
}
